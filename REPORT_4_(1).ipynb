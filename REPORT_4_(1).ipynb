{
  "nbformat": 4,
  "nbformat_minor": 0,
  "metadata": {
    "colab": {
      "provenance": []
    },
    "kernelspec": {
      "name": "python3",
      "display_name": "Python 3"
    },
    "language_info": {
      "name": "python"
    },
    "accelerator": "GPU",
    "gpuClass": "standard"
  },
  "cells": [
    {
      "cell_type": "code",
      "execution_count": 112,
      "metadata": {
        "id": "Xma2aVl63lPB"
      },
      "outputs": [],
      "source": [
        "import torch\n",
        "import torch.nn as nn\n",
        "import torch.optim as optim\n",
        "import numpy as np\n",
        "import pandas as pd"
      ]
    },
    {
      "cell_type": "code",
      "source": [
        "from google.colab import drive\n",
        "drive.mount('/content/drive')"
      ],
      "metadata": {
        "colab": {
          "base_uri": "https://localhost:8080/"
        },
        "id": "e5omMiMxSmwe",
        "outputId": "2046ed6c-d660-4700-f222-f5cc8e5ccb35"
      },
      "execution_count": 2,
      "outputs": [
        {
          "output_type": "stream",
          "name": "stdout",
          "text": [
            "Mounted at /content/drive\n"
          ]
        }
      ]
    },
    {
      "cell_type": "code",
      "source": [
        "class EmbeddingDotProduct(nn.Module):\n",
        "    def __init__(self, num_users, num_items, embedding_dim):\n",
        "        super(EmbeddingDotProduct, self).__init__()\n",
        "        self.user_embeddings = nn.Embedding(num_users, embedding_dim)\n",
        "        self.item_embeddings = nn.Embedding(num_items, embedding_dim)\n",
        "\n",
        "    def forward(self, user_indices, item_indices):\n",
        "        user_embedding = self.user_embeddings(user_indices)\n",
        "        item_embedding = self.item_embeddings(item_indices)\n",
        "\n",
        "        if item_indices.dim() == 2:\n",
        "            user_embedding = user_embedding.unsqueeze(1)\n",
        "\n",
        "        return (user_embedding * item_embedding).sum(1)"
      ],
      "metadata": {
        "id": "u4JCAXPx3snp"
      },
      "execution_count": 95,
      "outputs": []
    },
    {
      "cell_type": "code",
      "source": [
        "def bpr_loss(positive_scores, negative_scores):\n",
        "    return -torch.mean(torch.log(torch.sigmoid(positive_scores.unsqueeze(1) - negative_scores)))"
      ],
      "metadata": {
        "id": "-Qw4m_eK3wSf"
      },
      "execution_count": 96,
      "outputs": []
    },
    {
      "cell_type": "code",
      "source": [
        "scores = np.load(\"./drive/MyDrive/ВШМ/DL/scores_numpy.npy\")\n",
        "interactions = np.load(\"./drive/MyDrive/ВШМ/DL/interactions_numpy.npy\")"
      ],
      "metadata": {
        "id": "T5qRytUETz7h"
      },
      "execution_count": 97,
      "outputs": []
    },
    {
      "cell_type": "code",
      "source": [
        "interactions_positive = interactions[scores > 60, :]\n",
        "np.random.shuffle(interactions_positive)"
      ],
      "metadata": {
        "id": "SucHn91EfzmB"
      },
      "execution_count": 98,
      "outputs": []
    },
    {
      "cell_type": "code",
      "source": [
        "num_users = int(interactions[:, 0].max()) + 1\n",
        "num_items = int(interactions[:, 1].max()) + 1\n",
        "embedding_dim = 64"
      ],
      "metadata": {
        "id": "T_-2Xn5pU3Bb"
      },
      "execution_count": 104,
      "outputs": []
    },
    {
      "cell_type": "code",
      "source": [
        "def generate_negative_samples(num_items, positive_items, num_neg_samples): \n",
        "    #there can be intersections with positives but odds are low.\n",
        "    negative_samples = np.random.choice(num_items, (positive_items.shape[0], num_neg_samples), replace=False)\n",
        "    return negative_samples"
      ],
      "metadata": {
        "id": "oOFx64bTbd08"
      },
      "execution_count": 105,
      "outputs": []
    },
    {
      "cell_type": "code",
      "source": [
        "model = EmbeddingDotProduct(num_users, num_items, embedding_dim)"
      ],
      "metadata": {
        "id": "wKxKaxx53yi3"
      },
      "execution_count": 106,
      "outputs": []
    },
    {
      "cell_type": "code",
      "source": [
        "optimizer = optim.Adam(model.parameters(), lr=0.0005)\n",
        "device = torch.device(\"cuda\" if torch.cuda.is_available() else \"cpu\")\n",
        "model.to(device)"
      ],
      "metadata": {
        "colab": {
          "base_uri": "https://localhost:8080/"
        },
        "id": "z7-wx_1QVOID",
        "outputId": "17a4e7cc-29dd-47b8-f417-6b18cf41151d"
      },
      "execution_count": 107,
      "outputs": [
        {
          "output_type": "execute_result",
          "data": {
            "text/plain": [
              "EmbeddingDotProduct(\n",
              "  (user_embeddings): Embedding(249012, 64)\n",
              "  (item_embeddings): Embedding(296111, 64)\n",
              ")"
            ]
          },
          "metadata": {},
          "execution_count": 107
        }
      ]
    },
    {
      "cell_type": "code",
      "source": [
        "num_epochs = 5\n",
        "batch_size = 4000\n",
        "num_negative_samples = 5\n",
        "\n",
        "for epoch in range(num_epochs):\n",
        "    batch_loss = []\n",
        "    epoch_losses = []\n",
        "\n",
        "    for ix, batch_start in enumerate(range(0, len(interactions_positive), batch_size)):\n",
        "        if ix % 5000 == 4999:\n",
        "          print(f\"{ix} batches out of \", len(interactions_positive) // batch_size)\n",
        "          print(f\"loss: {np.mean(batch_loss)}\")\n",
        "          batch_loss = []\n",
        "\n",
        "        batch_data = interactions_positive[batch_start:batch_start + batch_size]\n",
        "        batch_positive_users = torch.LongTensor(batch_data[:, 0]).to(device)\n",
        "        batch_positive_items = torch.LongTensor(batch_data[:, 1]).to(device)\n",
        "        \n",
        "        # Sample negative items\n",
        "        batch_negative_items_np = generate_negative_samples(num_items, batch_data[:, 1], num_negative_samples)\n",
        "        batch_negative_items = torch.LongTensor(batch_negative_items_np).to(device)\n",
        "        \n",
        "        # Calculate scores\n",
        "        positive_scores = model(batch_positive_users, batch_positive_items)\n",
        "        negative_scores = model(batch_positive_users, batch_negative_items)\n",
        "        \n",
        "        # Compute loss\n",
        "        loss = bpr_loss(positive_scores, negative_scores)\n",
        "        batch_loss.append(loss.detach().cpu())\n",
        "        epoch_losses.append(loss.detach().cpu())\n",
        "        # Backpropagate and update weights\n",
        "        optimizer.zero_grad()\n",
        "        loss.backward()\n",
        "        optimizer.step()\n",
        "\n",
        "    print(f\"Epoch {epoch+1}/{num_epochs} - Loss: {np.mean(epoch_losses)}\")\n",
        "    epoch_losses = []"
      ],
      "metadata": {
        "colab": {
          "base_uri": "https://localhost:8080/"
        },
        "id": "LASYmfQnVSXG",
        "outputId": "bb527046-3d96-44ae-a2d9-51c4f844fa37"
      },
      "execution_count": 110,
      "outputs": [
        {
          "output_type": "stream",
          "name": "stdout",
          "text": [
            "4999 batches out of  7447\n",
            "loss: 1.7269418239593506\n",
            "Epoch 1/5 - Loss: 1.7357902526855469\n",
            "4999 batches out of  7447\n",
            "loss: 1.247313141822815\n",
            "Epoch 2/5 - Loss: 1.2195569276809692\n",
            "4999 batches out of  7447\n",
            "loss: 0.7369426488876343\n",
            "Epoch 3/5 - Loss: 0.7071095108985901\n",
            "4999 batches out of  7447\n",
            "loss: 0.38025662302970886\n",
            "Epoch 4/5 - Loss: 0.36702361702919006\n",
            "4999 batches out of  7447\n",
            "loss: 0.19563175737857819\n",
            "Epoch 5/5 - Loss: 0.1909148246049881\n"
          ]
        }
      ]
    },
    {
      "cell_type": "code",
      "source": [
        "# a bit cringe but i forgot to log losses\n",
        "loss_per_epoch = [1.7357902526855469, 1.2195569276809692, 0.7071095108985901, 0.36702361702919006, 0.1909148246049881]\n",
        "\n",
        "pd.Series(loss_per_epoch).plot()"
      ],
      "metadata": {
        "colab": {
          "base_uri": "https://localhost:8080/",
          "height": 450
        },
        "id": "1Zf096HsVtdK",
        "outputId": "bc8dd84a-843c-4681-8a7c-6ea82565893e"
      },
      "execution_count": 113,
      "outputs": [
        {
          "output_type": "execute_result",
          "data": {
            "text/plain": [
              "<Axes: >"
            ]
          },
          "metadata": {},
          "execution_count": 113
        },
        {
          "output_type": "display_data",
          "data": {
            "text/plain": [
              "<Figure size 640x480 with 1 Axes>"
            ],
            "image/png": "[encoded data removed]"
          },
          "metadata": {}
        }
      ]
    },
    {
      "cell_type": "code",
      "source": [],
      "metadata": {
        "id": "muI8FVe8WWUK"
      },
      "execution_count": null,
      "outputs": []
    },
    {
      "cell_type": "code",
      "source": [],
      "metadata": {
        "id": "4DTFxOXLWYlf"
      },
      "execution_count": null,
      "outputs": []
    },
    {
      "cell_type": "code",
      "source": [],
      "metadata": {
        "id": "dLRpMalUYH2C"
      },
      "execution_count": 50,
      "outputs": []
    },
    {
      "cell_type": "code",
      "source": [],
      "metadata": {
        "id": "5TJlcPb0dyWX"
      },
      "execution_count": null,
      "outputs": []
    }
  ]
}