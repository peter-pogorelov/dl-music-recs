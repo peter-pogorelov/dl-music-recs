{
 "cells": [
  {
   "cell_type": "code",
   "execution_count": 1,
   "metadata": {},
   "outputs": [],
   "source": [
    "import mmap\n",
    "import sys\n",
    "import numpy as np\n",
    "import pandas as pd"
   ]
  },
  {
   "cell_type": "code",
   "execution_count": 2,
   "metadata": {},
   "outputs": [],
   "source": [
    "%config Completer.use_jedi = False"
   ]
  },
  {
   "cell_type": "code",
   "execution_count": 10,
   "metadata": {},
   "outputs": [
    {
     "name": "stdout",
     "output_type": "stream",
     "text": [
      "999999\n",
      "1999999\n",
      "2999999\n",
      "3999999\n",
      "4999999\n",
      "5999999\n",
      "6999999\n",
      "7999999\n",
      "8999999\n",
      "9999999\n",
      "10999999\n",
      "11999999\n",
      "12999999\n",
      "13999999\n",
      "14999999\n",
      "15999999\n",
      "16999999\n",
      "17999999\n",
      "18999999\n",
      "19999999\n",
      "20999999\n",
      "21999999\n",
      "22999999\n",
      "23999999\n",
      "24999999\n",
      "25999999\n",
      "26999999\n",
      "27999999\n",
      "28999999\n",
      "29999999\n",
      "30999999\n",
      "31999999\n",
      "32999999\n",
      "33999999\n",
      "34999999\n",
      "35999999\n",
      "36999999\n",
      "37999999\n",
      "38999999\n",
      "39999999\n",
      "40999999\n",
      "41999999\n",
      "42999999\n",
      "43999999\n",
      "44999999\n",
      "45999999\n",
      "46999999\n",
      "47999999\n",
      "48999999\n",
      "49999999\n",
      "50999999\n",
      "51999999\n",
      "52999999\n",
      "53999999\n",
      "54999999\n",
      "55999999\n",
      "56999999\n",
      "57999999\n",
      "58999999\n",
      "59999999\n",
      "60999999\n",
      "61999999\n"
     ]
    }
   ],
   "source": [
    "with open(\"/Users/ppogorelov/Downloads/dataset/ydata-ymusic-kddcup-2011-track2/trainIdx2.txt\", \"r+b\") as f:\n",
    "    # memory-map the file, size 0 means whole file\n",
    "    mm = mmap.mmap(f.fileno(), 0, prot=mmap.PROT_READ)\n",
    "    \n",
    "    \n",
    "    interactions = []\n",
    "    interactions_numpy = None\n",
    "    \n",
    "    scores = []\n",
    "    scores_numpy = None\n",
    "    \n",
    "    current_user = None\n",
    "    counter = 0\n",
    "    line = mm.readline()\n",
    "    while len(line) > 0:\n",
    "        if counter % 1000000 == 999999:\n",
    "            print(counter)\n",
    "            if interactions_numpy is None:\n",
    "                interactions_numpy = np.asarray(interactions)\n",
    "                scores_numpy = np.asarray(scores)\n",
    "            else:\n",
    "                interactions_numpy = np.vstack((interactions_numpy, interactions))\n",
    "                scores_numpy = np.hstack((scores_numpy, scores))\n",
    "                \n",
    "            interactions = []\n",
    "            scores = []\n",
    "        \n",
    "        line = line.decode(\"utf-8\") \n",
    "        if '|' in line:\n",
    "            current_user = int(line.split('|')[0])\n",
    "        else:\n",
    "            temp = line.split('\\t')\n",
    "            \n",
    "            track, rating = temp\n",
    "            track = int(track)\n",
    "            rating = int(rating)\n",
    "\n",
    "            interactions.append([current_user, track])\n",
    "            scores.append(rating)\n",
    "            \n",
    "        line = mm.readline()\n",
    "        counter += 1\n",
    "    \n",
    "    interactions_numpy = np.vstack((interactions_numpy, interactions))\n",
    "    scores_numpy = np.hstack((scores_numpy, scores))\n",
    "    \n",
    "    del interactions\n",
    "    del scores"
   ]
  },
  {
   "cell_type": "code",
   "execution_count": 13,
   "metadata": {},
   "outputs": [],
   "source": [
    "np.save(\"./Data/scores_numpy.npy\", scores_numpy)"
   ]
  },
  {
   "cell_type": "code",
   "execution_count": 14,
   "metadata": {},
   "outputs": [],
   "source": [
    "np.save(\"./Data/interactions_numpy.npy\", interactions_numpy)"
   ]
  },
  {
   "cell_type": "code",
   "execution_count": null,
   "metadata": {},
   "outputs": [],
   "source": []
  }
 ],
 "metadata": {
  "kernelspec": {
   "display_name": "Python 3",
   "language": "python",
   "name": "python3"
  },
  "language_info": {
   "codemirror_mode": {
    "name": "ipython",
    "version": 3
   },
   "file_extension": ".py",
   "mimetype": "text/x-python",
   "name": "python",
   "nbconvert_exporter": "python",
   "pygments_lexer": "ipython3",
   "version": "3.7.9"
  }
 },
 "nbformat": 4,
 "nbformat_minor": 4
}
