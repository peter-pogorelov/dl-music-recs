{
  "cells": [
    {
      "cell_type": "code",
      "execution_count": 12,
      "metadata": {
        "id": "9cMUzXgomCMk"
      },
      "outputs": [],
      "source": [
        "import torch\n",
        "import torch.nn as nn\n",
        "import torch.optim as optim\n",
        "import numpy as np\n",
        "import pandas as pd "
      ]
    },
    {
      "cell_type": "code",
      "execution_count": 2,
      "metadata": {
        "colab": {
          "base_uri": "https://localhost:8080/"
        },
        "id": "5b1JvvRYmFV4",
        "outputId": "e283fb68-cadd-4212-ef1c-8f80d0b8167f"
      },
      "outputs": [
        {
          "output_type": "stream",
          "name": "stdout",
          "text": [
            "Mounted at /content/drive\n"
          ]
        }
      ],
      "source": [
        "from google.colab import drive\n",
        "drive.mount('/content/drive')"
      ]
    },
    {
      "cell_type": "code",
      "execution_count": 3,
      "metadata": {
        "id": "KqbmKo8hmGr-"
      },
      "outputs": [],
      "source": [
        "class EmbeddingDotProduct(nn.Module):\n",
        "    def __init__(self, num_users, num_items, embedding_dim):\n",
        "        super(EmbeddingDotProduct, self).__init__()\n",
        "        self.user_embeddings = nn.Embedding(num_users, embedding_dim)\n",
        "        self.item_embeddings = nn.Embedding(num_items, embedding_dim)\n",
        "\n",
        "    def forward(self, user_indices, item_indices):\n",
        "        user_embedding = self.user_embeddings(user_indices)\n",
        "        item_embedding = self.item_embeddings(item_indices)\n",
        "\n",
        "        if item_indices.dim() == 2:\n",
        "            user_embedding = user_embedding.unsqueeze(1)\n",
        "\n",
        "        return (user_embedding * item_embedding).sum(1)"
      ]
    },
    {
      "cell_type": "code",
      "execution_count": 4,
      "metadata": {
        "id": "tvT93VqpmJzU"
      },
      "outputs": [],
      "source": [
        "def bpr_loss(positive_scores, negative_scores):\n",
        "    return -torch.mean(torch.log(torch.sigmoid(positive_scores.unsqueeze(1) - negative_scores)))"
      ]
    },
    {
      "cell_type": "code",
      "execution_count": 5,
      "metadata": {
        "id": "i1gcdowEmLqg"
      },
      "outputs": [],
      "source": [
        "scores = np.load(\"./drive/MyDrive/ВШМ/DL/scores_numpy.npy\")\n",
        "interactions = np.load(\"./drive/MyDrive/ВШМ/DL/interactions_numpy.npy\")"
      ]
    },
    {
      "cell_type": "code",
      "execution_count": 6,
      "metadata": {
        "id": "RyMKad3VmVYu"
      },
      "outputs": [],
      "source": [
        "interactions_positive = interactions[scores > 80, :]\n",
        "np.random.shuffle(interactions_positive)"
      ]
    },
    {
      "cell_type": "code",
      "execution_count": 7,
      "metadata": {
        "id": "pIVsXWPYmYMR"
      },
      "outputs": [],
      "source": [
        "num_users = int(interactions[:, 0].max()) + 1\n",
        "num_items = int(interactions[:, 1].max()) + 1\n",
        "embedding_dim = 128"
      ]
    },
    {
      "cell_type": "code",
      "execution_count": 8,
      "metadata": {
        "id": "y7Q2F5MqmZwS"
      },
      "outputs": [],
      "source": [
        "def generate_negative_samples(num_items, positive_items, num_neg_samples): \n",
        "    #there can be intersections with positives but odds are low.\n",
        "    negative_samples = np.random.choice(num_items, (positive_items.shape[0], num_neg_samples), replace=False)\n",
        "    return negative_samples"
      ]
    },
    {
      "cell_type": "code",
      "execution_count": 9,
      "metadata": {
        "id": "vcRAI_hbnL23"
      },
      "outputs": [],
      "source": [
        "model = EmbeddingDotProduct(num_users, num_items, embedding_dim)"
      ]
    },
    {
      "cell_type": "code",
      "execution_count": 10,
      "metadata": {
        "colab": {
          "base_uri": "https://localhost:8080/"
        },
        "id": "FKAxr8gMnNbg",
        "outputId": "d07594a6-642d-4a05-fc41-083890ec0896"
      },
      "outputs": [
        {
          "output_type": "execute_result",
          "data": {
            "text/plain": [
              "EmbeddingDotProduct(\n",
              "  (user_embeddings): Embedding(249012, 128)\n",
              "  (item_embeddings): Embedding(296111, 128)\n",
              ")"
            ]
          },
          "metadata": {},
          "execution_count": 10
        }
      ],
      "source": [
        "optimizer = optim.Adam(model.parameters(), lr=0.0005)\n",
        "device = torch.device(\"cuda\" if torch.cuda.is_available() else \"cpu\")\n",
        "model.to(device)"
      ]
    },
    {
      "cell_type": "code",
      "execution_count": 11,
      "metadata": {
        "colab": {
          "base_uri": "https://localhost:8080/"
        },
        "id": "JxCK-vdynPD1",
        "outputId": "58d7f85b-7ef0-4da6-eebb-c219205babdd"
      },
      "outputs": [
        {
          "output_type": "stream",
          "name": "stdout",
          "text": [
            "4999 batches out of  6857\n",
            "loss: 4.389402866363525\n",
            "Epoch 1/5 - Loss: 4.2938947677612305\n",
            "4999 batches out of  6857\n",
            "loss: 3.3747928142547607\n",
            "Epoch 2/5 - Loss: 3.295471429824829\n",
            "4999 batches out of  6857\n",
            "loss: 2.5659914016723633\n",
            "Epoch 3/5 - Loss: 2.502016067504883\n",
            "4999 batches out of  6857\n",
            "loss: 1.8957449197769165\n",
            "Epoch 4/5 - Loss: 1.8333356380462646\n",
            "4999 batches out of  6857\n",
            "loss: 1.2882195711135864\n",
            "Epoch 5/5 - Loss: 1.2303619384765625\n"
          ]
        }
      ],
      "source": [
        "num_epochs = 5\n",
        "batch_size = 3000\n",
        "num_negative_samples = 5\n",
        "\n",
        "for epoch in range(num_epochs):\n",
        "    batch_loss = []\n",
        "    epoch_losses = []\n",
        "\n",
        "    for ix, batch_start in enumerate(range(0, len(interactions_positive), batch_size)):\n",
        "        if ix % 5000 == 4999:\n",
        "          print(f\"{ix} batches out of \", len(interactions_positive) // batch_size)\n",
        "          print(f\"loss: {np.mean(batch_loss)}\")\n",
        "          batch_loss = []\n",
        "\n",
        "        batch_data = interactions_positive[batch_start:batch_start + batch_size]\n",
        "        batch_positive_users = torch.LongTensor(batch_data[:, 0]).to(device)\n",
        "        batch_positive_items = torch.LongTensor(batch_data[:, 1]).to(device)\n",
        "        \n",
        "        # Sample negative items\n",
        "        batch_negative_items_np = generate_negative_samples(num_items, batch_data[:, 1], num_negative_samples)\n",
        "        batch_negative_items = torch.LongTensor(batch_negative_items_np).to(device)\n",
        "        \n",
        "        # Calculate scores\n",
        "        positive_scores = model(batch_positive_users, batch_positive_items)\n",
        "        negative_scores = model(batch_positive_users, batch_negative_items)\n",
        "        \n",
        "        # Compute loss\n",
        "        loss = bpr_loss(positive_scores, negative_scores)\n",
        "        batch_loss.append(loss.detach().cpu())\n",
        "        epoch_losses.append(loss.detach().cpu())\n",
        "        # Backpropagate and update weights\n",
        "        optimizer.zero_grad()\n",
        "        loss.backward()\n",
        "        optimizer.step()\n",
        "\n",
        "    print(f\"Epoch {epoch+1}/{num_epochs} - Loss: {np.mean(epoch_losses)}\")\n",
        "    epoch_losses = []"
      ]
    },
    {
      "cell_type": "code",
      "execution_count": 14,
      "metadata": {
        "id": "IWHDr-X3nXP6",
        "colab": {
          "base_uri": "https://localhost:8080/",
          "height": 448
        },
        "outputId": "75038fb1-9f1f-4fca-e00c-02f73d5a90bf"
      },
      "outputs": [
        {
          "output_type": "execute_result",
          "data": {
            "text/plain": [
              "<Axes: >"
            ]
          },
          "metadata": {},
          "execution_count": 14
        },
        {
          "output_type": "display_data",
          "data": {
            "text/plain": [
              "<Figure size 640x480 with 1 Axes>"
            ],
            "image/png": "[encoded data removed]"
          },
          "metadata": {}
        }
      ],
      "source": [
        "# a bit cringe but i forgot to log losses (again)\n",
        "loss_per_epoch_config_1 = [1.7357902526855469, 1.2195569276809692, 0.7071095108985901, 0.36702361702919006, 0.1909148246049881]\n",
        "loss_per_epoch_config_2 = [4.2938947677612305, 3.295471429824829, 2.502016067504883, 1.8333356380462646, 1.2303619384765625]\n",
        "\n",
        "pd.DataFrame({'cofig B': loss_per_epoch_config_1, 'config A': loss_per_epoch_config_2}).plot()"
      ]
    },
    {
      "cell_type": "code",
      "source": [],
      "metadata": {
        "id": "i7cCzrbNz4KE"
      },
      "execution_count": null,
      "outputs": []
    }
  ],
  "metadata": {
    "accelerator": "GPU",
    "colab": {
      "provenance": []
    },
    "gpuClass": "standard",
    "kernelspec": {
      "display_name": "Python 3",
      "name": "python3"
    },
    "language_info": {
      "name": "python"
    }
  },
  "nbformat": 4,
  "nbformat_minor": 0
}