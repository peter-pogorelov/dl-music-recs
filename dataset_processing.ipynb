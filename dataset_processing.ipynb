{
 "cells": [
  {
   "cell_type": "code",
   "execution_count": 1,
   "metadata": {},
   "outputs": [],
   "source": [
    "import mmap\n",
    "import sys\n",
    "import numpy as np\n",
    "import pandas as pd"
   ]
  },
  {
   "cell_type": "code",
   "execution_count": 2,
   "metadata": {},
   "outputs": [],
   "source": [
    "%config Completer.use_jedi = False"
   ]
  },
  {
   "cell_type": "code",
   "execution_count": 17,
   "metadata": {},
   "outputs": [],
   "source": [
    "TRAIN_DATASET_PATH = \"/Users/ppogorelov/Downloads/dataset/ydata-ymusic-kddcup-2011-track2/trainIdx2.txt\"\n",
    "TEST_DATASET_PATH = \"/Users/ppogorelov/Downloads/dataset/ydata-ymusic-kddcup-2011-track2/testIdx2.txt\""
   ]
  },
  {
   "cell_type": "markdown",
   "metadata": {},
   "source": [
    "The dataset is distributed in unconventional format. Here is description of the format from official readme:\n",
    "\n",
    "> First line for a user is formatted as: \\<UsedId\\>|\\<#UserRatings\\>\n",
    "Each of the next \\<#UserRatings\\> lines describes a single rating by \\<UsedId\\>, sorted in chronological order.\n",
    "Rating line format is: \\<ItemId\\>\\t\\<Score\\>\\t\\<Time\\>\n",
    "The scores are integers lying between 0 and 100."
   ]
  },
  {
   "cell_type": "code",
   "execution_count": 27,
   "metadata": {},
   "outputs": [],
   "source": [
    "def process_file(dataset_path, dump_after_n_lines=1000000):\n",
    "    with open(dataset_path, \"r+b\") as f:\n",
    "        mm = mmap.mmap(f.fileno(), 0, prot=mmap.PROT_READ)\n",
    "\n",
    "        interactions = []\n",
    "        interactions_numpy = None\n",
    "\n",
    "        scores = []\n",
    "        scores_numpy = None\n",
    "\n",
    "        current_user = None\n",
    "        counter = 0\n",
    "        line = mm.readline()\n",
    "        while len(line) > 0:\n",
    "            if counter % dump_after_n_lines == dump_after_n_lines-1:\n",
    "                if interactions_numpy is None:\n",
    "                    interactions_numpy = np.asarray(interactions)\n",
    "                    scores_numpy = np.asarray(scores)\n",
    "                else:\n",
    "                    interactions_numpy = np.vstack((interactions_numpy, interactions))\n",
    "                    scores_numpy = np.hstack((scores_numpy, scores))\n",
    "\n",
    "                interactions = []\n",
    "                scores = []\n",
    "\n",
    "            line = line.decode(\"utf-8\") \n",
    "            \n",
    "            if '|' in line:\n",
    "                current_user = int(line.split('|')[0])\n",
    "            else:\n",
    "                track, rating = line.split('\\t')\n",
    "                track = int(track)\n",
    "                rating = int(rating)\n",
    "\n",
    "                interactions.append([current_user, track])\n",
    "                scores.append(rating)\n",
    "\n",
    "            line = mm.readline()\n",
    "            counter += 1\n",
    "        \n",
    "        \n",
    "        interactions_numpy = np.vstack((interactions_numpy, interactions))\n",
    "        scores_numpy = np.hstack((scores_numpy, scores))\n",
    "\n",
    "        del interactions\n",
    "        del scores\n",
    "        \n",
    "    return interactions_numpy, scores_numpy"
   ]
  },
  {
   "cell_type": "code",
   "execution_count": 32,
   "metadata": {},
   "outputs": [],
   "source": [
    "interactions_test, scores_test = process_file(TEST_DATASET_PATH, 10000)"
   ]
  },
  {
   "cell_type": "code",
   "execution_count": 33,
   "metadata": {},
   "outputs": [],
   "source": [
    "np.save(\"./Data/scores_test.npy\", scores_test)\n",
    "np.save(\"./Data/interactions_test.npy\", interactions_test)"
   ]
  },
  {
   "cell_type": "code",
   "execution_count": 34,
   "metadata": {},
   "outputs": [],
   "source": [
    "interactions_train, scores_train = process_file(TRAIN_DATASET_PATH, 1000000)"
   ]
  },
  {
   "cell_type": "code",
   "execution_count": 35,
   "metadata": {},
   "outputs": [],
   "source": [
    "np.save(\"./Data/scores_train.npy\", scores_train)\n",
    "np.save(\"./Data/interactions_train.npy\", interactions_train)"
   ]
  },
  {
   "cell_type": "code",
   "execution_count": null,
   "metadata": {},
   "outputs": [],
   "source": []
  }
 ],
 "metadata": {
  "kernelspec": {
   "display_name": "Python 3",
   "language": "python",
   "name": "python3"
  },
  "language_info": {
   "codemirror_mode": {
    "name": "ipython",
    "version": 3
   },
   "file_extension": ".py",
   "mimetype": "text/x-python",
   "name": "python",
   "nbconvert_exporter": "python",
   "pygments_lexer": "ipython3",
   "version": "3.7.9"
  }
 },
 "nbformat": 4,
 "nbformat_minor": 4
}
